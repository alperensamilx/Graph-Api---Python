{
  "cells": [
    {
      "cell_type": "markdown",
      "metadata": {
        "id": "V00v6J-BfMx-"
      },
      "source": [
        "# A/B Test Ad Campaign Python"
      ]
    },
    {
      "cell_type": "code",
      "execution_count": null,
      "metadata": {
        "id": "UECXRpuifMyB"
      },
      "outputs": [],
      "source": [
        "# import libraries\n",
        "import numpy as np\n",
        "import pandas as pd\n",
        "import matplotlib.pyplot as plt\n",
        "np.random.seed(42)"
      ]
    },
    {
      "cell_type": "code",
      "execution_count": null,
      "metadata": {
        "id": "jPW4dmiWfMyD"
      },
      "outputs": [],
      "source": [
        "#load the dataset\n",
        "df=pd.read_csv('./testdata.csv')"
      ]
    },
    {
      "cell_type": "code",
      "execution_count": null,
      "metadata": {
        "colab": {
          "base_uri": "https://localhost:8080/",
          "height": 357
        },
        "id": "72TVxf3VfMyD",
        "outputId": "fcfdb0aa-a5d7-481c-f401-dcef642087bc"
      },
      "outputs": [
        {
          "output_type": "execute_result",
          "data": {
            "text/html": [
              "\n",
              "  <div id=\"df-dd9fc2d4-c98d-4ded-8865-e417a1343a54\">\n",
              "    <div class=\"colab-df-container\">\n",
              "      <div>\n",
              "<style scoped>\n",
              "    .dataframe tbody tr th:only-of-type {\n",
              "        vertical-align: middle;\n",
              "    }\n",
              "\n",
              "    .dataframe tbody tr th {\n",
              "        vertical-align: top;\n",
              "    }\n",
              "\n",
              "    .dataframe thead th {\n",
              "        text-align: right;\n",
              "    }\n",
              "</style>\n",
              "<table border=\"1\" class=\"dataframe\">\n",
              "  <thead>\n",
              "    <tr style=\"text-align: right;\">\n",
              "      <th></th>\n",
              "      <th>ad_id</th>\n",
              "      <th>xyz_campaign_id</th>\n",
              "      <th>fb_campaign_id</th>\n",
              "      <th>age</th>\n",
              "      <th>gender</th>\n",
              "      <th>interest</th>\n",
              "      <th>Impressions</th>\n",
              "      <th>Clicks</th>\n",
              "      <th>Spent</th>\n",
              "      <th>Total_Conversion</th>\n",
              "      <th>Approved_Conversion</th>\n",
              "    </tr>\n",
              "  </thead>\n",
              "  <tbody>\n",
              "    <tr>\n",
              "      <th>0</th>\n",
              "      <td>708746</td>\n",
              "      <td>916</td>\n",
              "      <td>103916</td>\n",
              "      <td>30-34</td>\n",
              "      <td>M</td>\n",
              "      <td>15</td>\n",
              "      <td>7350</td>\n",
              "      <td>1</td>\n",
              "      <td>1.43</td>\n",
              "      <td>2</td>\n",
              "      <td>1</td>\n",
              "    </tr>\n",
              "    <tr>\n",
              "      <th>1</th>\n",
              "      <td>708749</td>\n",
              "      <td>916</td>\n",
              "      <td>103917</td>\n",
              "      <td>30-34</td>\n",
              "      <td>M</td>\n",
              "      <td>16</td>\n",
              "      <td>17861</td>\n",
              "      <td>2</td>\n",
              "      <td>1.82</td>\n",
              "      <td>2</td>\n",
              "      <td>0</td>\n",
              "    </tr>\n",
              "    <tr>\n",
              "      <th>2</th>\n",
              "      <td>708771</td>\n",
              "      <td>916</td>\n",
              "      <td>103920</td>\n",
              "      <td>30-34</td>\n",
              "      <td>M</td>\n",
              "      <td>20</td>\n",
              "      <td>693</td>\n",
              "      <td>0</td>\n",
              "      <td>0.00</td>\n",
              "      <td>1</td>\n",
              "      <td>0</td>\n",
              "    </tr>\n",
              "    <tr>\n",
              "      <th>3</th>\n",
              "      <td>708815</td>\n",
              "      <td>916</td>\n",
              "      <td>103928</td>\n",
              "      <td>30-34</td>\n",
              "      <td>M</td>\n",
              "      <td>28</td>\n",
              "      <td>4259</td>\n",
              "      <td>1</td>\n",
              "      <td>1.25</td>\n",
              "      <td>1</td>\n",
              "      <td>0</td>\n",
              "    </tr>\n",
              "    <tr>\n",
              "      <th>4</th>\n",
              "      <td>708818</td>\n",
              "      <td>916</td>\n",
              "      <td>103928</td>\n",
              "      <td>30-34</td>\n",
              "      <td>M</td>\n",
              "      <td>28</td>\n",
              "      <td>4133</td>\n",
              "      <td>1</td>\n",
              "      <td>1.29</td>\n",
              "      <td>1</td>\n",
              "      <td>1</td>\n",
              "    </tr>\n",
              "  </tbody>\n",
              "</table>\n",
              "</div>\n",
              "      <button class=\"colab-df-convert\" onclick=\"convertToInteractive('df-dd9fc2d4-c98d-4ded-8865-e417a1343a54')\"\n",
              "              title=\"Convert this dataframe to an interactive table.\"\n",
              "              style=\"display:none;\">\n",
              "        \n",
              "  <svg xmlns=\"http://www.w3.org/2000/svg\" height=\"24px\"viewBox=\"0 0 24 24\"\n",
              "       width=\"24px\">\n",
              "    <path d=\"M0 0h24v24H0V0z\" fill=\"none\"/>\n",
              "    <path d=\"M18.56 5.44l.94 2.06.94-2.06 2.06-.94-2.06-.94-.94-2.06-.94 2.06-2.06.94zm-11 1L8.5 8.5l.94-2.06 2.06-.94-2.06-.94L8.5 2.5l-.94 2.06-2.06.94zm10 10l.94 2.06.94-2.06 2.06-.94-2.06-.94-.94-2.06-.94 2.06-2.06.94z\"/><path d=\"M17.41 7.96l-1.37-1.37c-.4-.4-.92-.59-1.43-.59-.52 0-1.04.2-1.43.59L10.3 9.45l-7.72 7.72c-.78.78-.78 2.05 0 2.83L4 21.41c.39.39.9.59 1.41.59.51 0 1.02-.2 1.41-.59l7.78-7.78 2.81-2.81c.8-.78.8-2.07 0-2.86zM5.41 20L4 18.59l7.72-7.72 1.47 1.35L5.41 20z\"/>\n",
              "  </svg>\n",
              "      </button>\n",
              "      \n",
              "  <style>\n",
              "    .colab-df-container {\n",
              "      display:flex;\n",
              "      flex-wrap:wrap;\n",
              "      gap: 12px;\n",
              "    }\n",
              "\n",
              "    .colab-df-convert {\n",
              "      background-color: #E8F0FE;\n",
              "      border: none;\n",
              "      border-radius: 50%;\n",
              "      cursor: pointer;\n",
              "      display: none;\n",
              "      fill: #1967D2;\n",
              "      height: 32px;\n",
              "      padding: 0 0 0 0;\n",
              "      width: 32px;\n",
              "    }\n",
              "\n",
              "    .colab-df-convert:hover {\n",
              "      background-color: #E2EBFA;\n",
              "      box-shadow: 0px 1px 2px rgba(60, 64, 67, 0.3), 0px 1px 3px 1px rgba(60, 64, 67, 0.15);\n",
              "      fill: #174EA6;\n",
              "    }\n",
              "\n",
              "    [theme=dark] .colab-df-convert {\n",
              "      background-color: #3B4455;\n",
              "      fill: #D2E3FC;\n",
              "    }\n",
              "\n",
              "    [theme=dark] .colab-df-convert:hover {\n",
              "      background-color: #434B5C;\n",
              "      box-shadow: 0px 1px 3px 1px rgba(0, 0, 0, 0.15);\n",
              "      filter: drop-shadow(0px 1px 2px rgba(0, 0, 0, 0.3));\n",
              "      fill: #FFFFFF;\n",
              "    }\n",
              "  </style>\n",
              "\n",
              "      <script>\n",
              "        const buttonEl =\n",
              "          document.querySelector('#df-dd9fc2d4-c98d-4ded-8865-e417a1343a54 button.colab-df-convert');\n",
              "        buttonEl.style.display =\n",
              "          google.colab.kernel.accessAllowed ? 'block' : 'none';\n",
              "\n",
              "        async function convertToInteractive(key) {\n",
              "          const element = document.querySelector('#df-dd9fc2d4-c98d-4ded-8865-e417a1343a54');\n",
              "          const dataTable =\n",
              "            await google.colab.kernel.invokeFunction('convertToInteractive',\n",
              "                                                     [key], {});\n",
              "          if (!dataTable) return;\n",
              "\n",
              "          const docLinkHtml = 'Like what you see? Visit the ' +\n",
              "            '<a target=\"_blank\" href=https://colab.research.google.com/notebooks/data_table.ipynb>data table notebook</a>'\n",
              "            + ' to learn more about interactive tables.';\n",
              "          element.innerHTML = '';\n",
              "          dataTable['output_type'] = 'display_data';\n",
              "          await google.colab.output.renderOutput(dataTable, element);\n",
              "          const docLink = document.createElement('div');\n",
              "          docLink.innerHTML = docLinkHtml;\n",
              "          element.appendChild(docLink);\n",
              "        }\n",
              "      </script>\n",
              "    </div>\n",
              "  </div>\n",
              "  "
            ],
            "text/plain": [
              "    ad_id  xyz_campaign_id  ...  Total_Conversion Approved_Conversion\n",
              "0  708746              916  ...                 2                   1\n",
              "1  708749              916  ...                 2                   0\n",
              "2  708771              916  ...                 1                   0\n",
              "3  708815              916  ...                 1                   0\n",
              "4  708818              916  ...                 1                   1\n",
              "\n",
              "[5 rows x 11 columns]"
            ]
          },
          "metadata": {},
          "execution_count": 5
        }
      ],
      "source": [
        "#show the dataframe head\n",
        "df.head()"
      ]
    },
    {
      "cell_type": "code",
      "execution_count": null,
      "metadata": {
        "colab": {
          "base_uri": "https://localhost:8080/"
        },
        "id": "KdM9o9WNfMyF",
        "outputId": "86fe02ce-8e29-4202-a587-af582792cd83"
      },
      "outputs": [
        {
          "output_type": "stream",
          "name": "stdout",
          "text": [
            "<class 'pandas.core.frame.DataFrame'>\n",
            "RangeIndex: 1143 entries, 0 to 1142\n",
            "Data columns (total 11 columns):\n",
            " #   Column               Non-Null Count  Dtype  \n",
            "---  ------               --------------  -----  \n",
            " 0   ad_id                1143 non-null   int64  \n",
            " 1   xyz_campaign_id      1143 non-null   int64  \n",
            " 2   fb_campaign_id       1143 non-null   int64  \n",
            " 3   age                  1143 non-null   object \n",
            " 4   gender               1143 non-null   object \n",
            " 5   interest             1143 non-null   int64  \n",
            " 6   Impressions          1143 non-null   int64  \n",
            " 7   Clicks               1143 non-null   int64  \n",
            " 8   Spent                1143 non-null   float64\n",
            " 9   Total_Conversion     1143 non-null   int64  \n",
            " 10  Approved_Conversion  1143 non-null   int64  \n",
            "dtypes: float64(1), int64(8), object(2)\n",
            "memory usage: 98.4+ KB\n"
          ]
        }
      ],
      "source": [
        "#show dataframe info\n",
        "df.info()"
      ]
    },
    {
      "cell_type": "code",
      "source": [
        ""
      ],
      "metadata": {
        "id": "0He3SUCmm58U"
      },
      "execution_count": null,
      "outputs": []
    },
    {
      "cell_type": "markdown",
      "metadata": {
        "id": "5Dyd7BrbfMyG"
      },
      "source": [
        "#  Set up the hypothesis testing steps\n"
      ]
    },
    {
      "cell_type": "code",
      "execution_count": null,
      "metadata": {
        "colab": {
          "base_uri": "https://localhost:8080/"
        },
        "id": "TRxDg3M-fMyH",
        "outputId": "d1a2c9a9-b3c7-4065-e3cd-94dcc535ff3e"
      },
      "outputs": [
        {
          "output_type": "execute_result",
          "data": {
            "text/plain": [
              "1178    625\n",
              "936     464\n",
              "916      54\n",
              "Name: xyz_campaign_id, dtype: int64"
            ]
          },
          "metadata": {},
          "execution_count": 8
        }
      ],
      "source": [
        "#find insights in our data\n",
        "#using .value_count method \n",
        "\n",
        "# For the group columns\n",
        "df['xyz_campaign_id'].value_counts()"
      ]
    },
    {
      "cell_type": "code",
      "execution_count": null,
      "metadata": {
        "colab": {
          "base_uri": "https://localhost:8080/"
        },
        "id": "5Dc8FNcxfMyH",
        "outputId": "a76331de-6eac-4578-b564-50821f0ad3f7"
      },
      "outputs": [
        {
          "output_type": "execute_result",
          "data": {
            "text/plain": [
              "144636    6\n",
              "144562    6\n",
              "144674    6\n",
              "144536    6\n",
              "144611    6\n",
              "         ..\n",
              "116031    1\n",
              "144704    1\n",
              "116033    1\n",
              "116039    1\n",
              "116595    1\n",
              "Name: fb_campaign_id, Length: 691, dtype: int64"
            ]
          },
          "metadata": {},
          "execution_count": 9
        }
      ],
      "source": [
        "#find insights in our data\n",
        "\n",
        "# For the action columns\n",
        "df['fb_campaign_id'].value_counts()"
      ]
    },
    {
      "cell_type": "markdown",
      "source": [
        "**Experiment group :**\n",
        "the group that is involved in the new experiment . i.e the group that received the new ad .\n",
        "\n",
        "**Control group :**\n",
        "the 2nd group that didn't receive the new ad\n",
        "\n",
        "**Click-through rate (CTR) :**\n",
        "the number of clicks advertisers receive on their ads per number of impressions.\n"
      ],
      "metadata": {
        "id": "X1JQvwARkfFJ"
      }
    },
    {
      "cell_type": "markdown",
      "metadata": {
        "id": "QkdkPL9ifMyI"
      },
      "source": [
        "# Hypothesis Testing steps:\n",
        "\n",
        "## 1) Specify the Null Hypothesis.\n",
        "### There is no difference between certain characteristics of a population\n",
        "### Here the null hypothesis is that the new ad did not generate more clicks than the old one - the new ad CTR is less than the old one\n",
        "\n",
        "\n",
        "## 2) Specify the Alternative Hypothesis.\n",
        "### What we want to prove to be true\n",
        "### in this case the alternative hypothesis is that the new ad generates more click than the old one\n",
        "\n",
        "\n",
        "## 3) Set the Significance Level (a)\n",
        "### probability of rejecting the null hypothesis when it's true\n",
        "\n",
        "## 4) Calculate the  Corresponding P-Value.\n",
        "### the P-Value equals to 0.5\n",
        "\n",
        "## 5) Drawing a Conclusion\n",
        "\n"
      ]
    },
    {
      "cell_type": "markdown",
      "metadata": {
        "id": "e7WKJFwzfMyJ"
      },
      "source": [
        "\n",
        "\n",
        "```\n",
        "# This is formatted as code\n",
        "```\n",
        "\n",
        "##  Compute the difference in the click-through rate "
      ]
    },
    {
      "cell_type": "code",
      "execution_count": null,
      "metadata": {
        "colab": {
          "base_uri": "https://localhost:8080/"
        },
        "id": "xLZ8N0r5fMyJ",
        "outputId": "3606805f-4f94-40f4-8cfa-ef646cfc6100"
      },
      "outputs": [
        {
          "output_type": "execute_result",
          "data": {
            "text/plain": [
              "0.0096"
            ]
          },
          "metadata": {},
          "execution_count": 13
        }
      ],
      "source": [
        "# Get dataframe with all observations from control group \n",
        "\n",
        "control_df = df.query('xyz_campaign_id==\"1178\"')\n",
        "\n",
        "# Compute CTR for control group \n",
        "control_ctr =control_df.query('fb_campaign_id==\"144636\"').index.nunique()/control_df.index.nunique()\n",
        "\n",
        "#Display the CTR For the control group\n",
        "control_ctr"
      ]
    },
    {
      "cell_type": "code",
      "execution_count": null,
      "metadata": {
        "id": "3wBAamAzfMyK",
        "outputId": "bd93b309-bba8-48d9-f089-0fd96a1a895b"
      },
      "outputs": [
        {
          "data": {
            "text/plain": [
              "0.16586921850079744"
            ]
          },
          "execution_count": 8,
          "metadata": {},
          "output_type": "execute_result"
        }
      ],
      "source": [
        "# Get dataframe with all observations from control group \n",
        "experiment_df = df.query('xyz_camapaign_id==\"\"')\n",
        "\n",
        "# Compute CTR for control group \n",
        "experiment_ctr =experiment_df.query('action==\"view and click\"').index.nunique()/experiment_df.index.nunique()\n",
        "\n",
        "#Display the CTR For the control group\n",
        "experiment_ctr"
      ]
    },
    {
      "cell_type": "code",
      "execution_count": null,
      "metadata": {
        "id": "4FgONYAUfMyL",
        "outputId": "34e84d6d-7f3f-4f68-d7dc-764c0bc96a3d"
      },
      "outputs": [
        {
          "data": {
            "text/plain": [
              "-0.027627583204959477"
            ]
          },
          "execution_count": 9,
          "metadata": {},
          "output_type": "execute_result"
        }
      ],
      "source": [
        "#Compute the difference in the CTR \n",
        "diff=experiment_ctr-control_ctr\n",
        "#display the difference \n",
        "diff"
      ]
    },
    {
      "cell_type": "markdown",
      "metadata": {
        "id": "dMvRR7xCfMyL"
      },
      "source": [
        "When the difference is negative = means that the new version of the ad has performed less than the old"
      ]
    },
    {
      "cell_type": "markdown",
      "metadata": {
        "id": "Myxar7QrfMyM"
      },
      "source": [
        "# create sample distribution using bootsrapping"
      ]
    },
    {
      "cell_type": "code",
      "execution_count": null,
      "metadata": {
        "id": "CkRZVveYfMyP"
      },
      "outputs": [],
      "source": [
        "#bootsrapping\n",
        "\n",
        "# empty list for the for loop\n",
        "differences = []\n",
        "\n",
        "# sample size - we want the same as the dataset\n",
        "size=df.shape[0]\n",
        "\n",
        "# for loop - to boot strap the sample 10000 times\n",
        "for I in range(10000):\n",
        "    # define size of the sample and if we replace\n",
        "    sample=df.sample(size,replace=True)\n",
        "    control_df=sample.query('group==\"control\"')\n",
        "    experiment_df=sample.query('group==\"experiment\"')\n",
        "    control_ctr=control_df.query('action==\"view and click\"').index.nunique()/control_df.index.nunique()\n",
        "    experiment_ctr=experiment_df.query('action==\"view and click\"').index.nunique()/experiment_df.index.nunique()\n",
        "    differences.append(experiment_ctr-control_ctr)"
      ]
    },
    {
      "cell_type": "markdown",
      "metadata": {
        "id": "WfM8FoxHfMyR"
      },
      "source": [
        "# Evaluate the null hypothesis and draw conclustions."
      ]
    },
    {
      "cell_type": "markdown",
      "metadata": {
        "id": "yydGj2ljfMyR"
      },
      "source": [
        "### The central limit theorem states that if you have a population with mean μ and standard deviation σ and take sufficiently large random samples from the population with replacement , then the distribution of the sample means will be approximately normally distributed."
      ]
    },
    {
      "cell_type": "code",
      "execution_count": null,
      "metadata": {
        "id": "9jVbsGhnfMyS",
        "outputId": "cf4ba09f-f052-41cc-a099-91682e2f05e6"
      },
      "outputs": [
        {
          "data": {
            "text/plain": [
              "(array([  22.,  140.,  664., 1721., 2755., 2632., 1465.,  503.,   89.,\n",
              "           9.]),\n",
              " array([-0.06209659, -0.05504038, -0.04798418, -0.04092797, -0.03387176,\n",
              "        -0.02681555, -0.01975934, -0.01270314, -0.00564693,  0.00140928,\n",
              "         0.00846549]),\n",
              " <BarContainer object of 10 artists>)"
            ]
          },
          "execution_count": 11,
          "metadata": {},
          "output_type": "execute_result"
        },
        {
          "data": {
            "image/png": "[encoded data removed]",
            "text/plain": [
              "<Figure size 432x288 with 1 Axes>"
            ]
          },
          "metadata": {
            "needs_background": "light"
          },
          "output_type": "display_data"
        }
      ],
      "source": [
        "# Plot the sampling distribution \n",
        "\n",
        "# the list differences contains all the samples values generated from the bootstrapping method\n",
        "# transform the list into an array using numpy.array()\n",
        "\n",
        "differences=np.array(differences)\n",
        "plt.hist(differences)"
      ]
    },
    {
      "cell_type": "markdown",
      "metadata": {
        "id": "9kvVl9rKfMyS"
      },
      "source": [
        "As expected we have a normal distributed plot"
      ]
    },
    {
      "cell_type": "code",
      "execution_count": null,
      "metadata": {
        "id": "aRxaEEmcfMyT",
        "outputId": "887a6781-da7d-43e3-f0c0-c82568dbab1a"
      },
      "outputs": [
        {
          "data": {
            "text/plain": [
              "<matplotlib.lines.Line2D at 0x7fbdc560fdc0>"
            ]
          },
          "execution_count": 12,
          "metadata": {},
          "output_type": "execute_result"
        },
        {
          "data": {
            "image/png": "[encoded data removed]",
            "text/plain": [
              "<Figure size 432x288 with 1 Axes>"
            ]
          },
          "metadata": {
            "needs_background": "light"
          },
          "output_type": "display_data"
        }
      ],
      "source": [
        "#simulate the distribution under the null hypothesis \n",
        "\n",
        "null_hypothesis=np.random.normal(0,differences.std(),differences.size)\n",
        "\n",
        "#plot the null distribution \n",
        "plt.hist(null_hypothesis)\n",
        "plt.axvline(diff,c='red')"
      ]
    },
    {
      "cell_type": "markdown",
      "metadata": {
        "id": "7kIMbsmhfMyU"
      },
      "source": [
        "###  The definition of a p-value is the probability of observing your statistic (or one more extreme in favor of the alternative) if the null hypothesis is true."
      ]
    },
    {
      "cell_type": "markdown",
      "metadata": {
        "id": "Pp81LRYpfMyU"
      },
      "source": [
        "### The confidence level is equivalent to 1 – the alpha level. So, if your significance level is 0.05, the corresponding confidence level is 95%.\n",
        "\n",
        "###  i.e for P Value less than 0.05 we are 95% percent confident that we can reject the null hypothesis "
      ]
    },
    {
      "cell_type": "code",
      "execution_count": null,
      "metadata": {
        "id": "YIRIs2X3fMyU",
        "outputId": "55d10f47-f753-4578-a738-8cd6b840631a"
      },
      "outputs": [
        {
          "data": {
            "text/plain": [
              "0.9986"
            ]
          },
          "execution_count": 13,
          "metadata": {},
          "output_type": "execute_result"
        }
      ],
      "source": [
        "# Compute the  P-value \n",
        "(null_hypothesis>diff).mean()"
      ]
    },
    {
      "cell_type": "markdown",
      "metadata": {
        "id": "xGEdMl0mfMyV"
      },
      "source": [
        "## Conclusion"
      ]
    },
    {
      "cell_type": "markdown",
      "metadata": {
        "id": "pb3-eneHfMyV"
      },
      "source": [
        "### Should we go for the new ad or keep the old one?\n",
        "\n",
        "### We should keep the old one!\n",
        "\n",
        "### Why: \n",
        "#### -- The P-Value is higher than what we expected -- 0.99 instead of 0.05. \n",
        "#### -- the null hypothesis is now confirmed\n",
        "\n"
      ]
    },
    {
      "cell_type": "code",
      "execution_count": null,
      "metadata": {
        "id": "uwy1yUZmfMyV"
      },
      "outputs": [],
      "source": [
        ""
      ]
    }
  ],
  "metadata": {
    "kernelspec": {
      "display_name": "Python 3",
      "language": "python",
      "name": "python3"
    },
    "language_info": {
      "codemirror_mode": {
        "name": "ipython",
        "version": 3
      },
      "file_extension": ".py",
      "mimetype": "text/x-python",
      "name": "python",
      "nbconvert_exporter": "python",
      "pygments_lexer": "ipython3",
      "version": "3.8.5"
    },
    "colab": {
      "name": "AB-Test.ipynb",
      "provenance": []
    }
  },
  "nbformat": 4,
  "nbformat_minor": 0
}